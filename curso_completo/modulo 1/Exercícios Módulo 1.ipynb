{
 "cells": [
  {
   "cell_type": "markdown",
   "metadata": {
    "id": "Pi-CJIef1ul1"
   },
   "source": [
    "# Exercícios do Módulo 1 - Operações, Variáveis e Input"
   ]
  },
  {
   "cell_type": "markdown",
   "metadata": {
    "id": "FJ2bFoIx1umA"
   },
   "source": [
    "### Parte 1 - Operações e Variáveis\n",
    "Crie um programa que imprima (print) os principais indicadores da loja Hashtag&Drink no último ano.\n",
    "Obs: faça tudo usando variáveis.\n",
    "\n",
    "Valores do último ano:\n",
    "\n",
    "Quantidade de Vendas de Coca = 150<br>\n",
    "Quantidade de Vendas de Pepsi = 130<br>\n",
    "Preço Unitário da Coca = 1,50 <br>\n",
    "Preço Unitário da Pepsi = 1,50<br>\n",
    "Custo da Loja: 2.500,00\n",
    "\n",
    "Use o bloco abaixo para criar todas as variáveis que precisar."
   ]
  },
  {
   "cell_type": "code",
   "execution_count": 6,
   "metadata": {
    "id": "8ou0OBBX1umC"
   },
   "outputs": [],
   "source": [
    "qtde_vendas_coca = 150\n",
    "qtde_vendas_pepsi = 130\n",
    "preco_coca = 1.5\n",
    "preco_pespi = 1.5\n",
    "custo_loja = 2500"
   ]
  },
  {
   "cell_type": "markdown",
   "metadata": {
    "id": "fW0kX-qN1umD"
   },
   "source": [
    "1. Qual foi o faturamento de Pepsi da Loja?"
   ]
  },
  {
   "cell_type": "code",
   "execution_count": null,
   "metadata": {
    "id": "zsBMI5vg1umE"
   },
   "outputs": [
    {
     "name": "stdout",
     "output_type": "stream",
     "text": [
      "O faturamento de pepsi foi 195.0\n"
     ]
    }
   ],
   "source": [
    "vendas_pepsi = qtde_vendas_pepsi * preco_pespi\n",
    "print(f\"O faturamento de pepsi foi {vendas_pepsi}\")"
   ]
  },
  {
   "cell_type": "markdown",
   "metadata": {
    "id": "xgxOvmRz1umF"
   },
   "source": [
    "2. Qual foi o faturamento de Coca da Loja?"
   ]
  },
  {
   "cell_type": "code",
   "execution_count": 15,
   "metadata": {
    "id": "NpsI_giv1umG"
   },
   "outputs": [
    {
     "name": "stdout",
     "output_type": "stream",
     "text": [
      "O faturamento da coca foi 225.0\n"
     ]
    }
   ],
   "source": [
    "vendas_coca = qtde_vendas_coca * preco_coca\n",
    "print(f\"O faturamento da coca foi {vendas_coca}\" )"
   ]
  },
  {
   "cell_type": "markdown",
   "metadata": {
    "id": "8D_0mYbI1umH"
   },
   "source": [
    "3. Qual foi o Lucro da loja?"
   ]
  },
  {
   "cell_type": "code",
   "execution_count": 16,
   "metadata": {
    "id": "doMwJLC-1umI"
   },
   "outputs": [
    {
     "name": "stdout",
     "output_type": "stream",
     "text": [
      "O lucro total da loja foi R$ -2080.0\n"
     ]
    }
   ],
   "source": [
    "faturamento = vendas_coca + vendas_pepsi\n",
    "despesas = 2500\n",
    "lucro = faturamento - despesas\n",
    "print(f\"O lucro total da loja foi R$ {lucro}\")"
   ]
  },
  {
   "cell_type": "markdown",
   "metadata": {
    "id": "bdua5-Ct1umJ"
   },
   "source": [
    "4. Qual foi a Margem da Loja? (Lembre-se, margem = Lucro / Faturamento). Não precisa formatar em percentual"
   ]
  },
  {
   "cell_type": "code",
   "execution_count": 18,
   "metadata": {
    "id": "ySAB6BNL1umK"
   },
   "outputs": [
    {
     "name": "stdout",
     "output_type": "stream",
     "text": [
      "A margem de lucro é R$ -4.9523809523809526\n"
     ]
    }
   ],
   "source": [
    "margem_lucro = lucro / faturamento\n",
    "print(f\"A margem de lucro é R$ {margem_lucro}\")"
   ]
  },
  {
   "cell_type": "markdown",
   "metadata": {
    "id": "D1mYymiP1umL"
   },
   "source": [
    "### Parte 2 - Inputs e Strings"
   ]
  },
  {
   "cell_type": "markdown",
   "metadata": {
    "id": "mcbTaP8b1umN"
   },
   "source": [
    "A maioria das empresas trabalham com um Código para cada produto que possuem. A Hashtag&Drink, por exemplo, tem mais de 1.000 produtos e possui um código para cada produto.\n",
    "Ex: \n",
    "Coca -> Código: BEB1300543<br>\n",
    "Pepsi -> Código: BEB1300545<br>\n",
    "Vinho Primitivo Lucarelli -> Código: BAC1546001<br>\n",
    "Vodka Smirnoff -> Código: BAC17675002<br>\n",
    "\n",
    "Repare que todas as bebidas não alcóolicas tem o início do Código \"BEB\" e todas as bebidas alcóolicas tem o início do código \"BAC\".\n",
    "\n",
    "Crie um programa de consulta de bebida que, dado um código qualquer, identifique se a bebida é alcóolica. O programa deve responder True para bebidas alcóolicas e False para bebidas não alcóolicas. Para inserir um código, use um input.\n",
    "\n",
    "Dica: Lembre-se do comando in para strings e sempre insira os códigos com letra maiúscula para facilitar."
   ]
  },
  {
   "cell_type": "code",
   "execution_count": null,
   "metadata": {
    "id": "IUrYt1hs1umQ"
   },
   "outputs": [
    {
     "name": "stdout",
     "output_type": "stream",
     "text": [
      "Bebida alcoolica\n"
     ]
    }
   ],
   "source": [
    "codigo = input(\"Qual o codigo da bebida: \")\n",
    "\n",
    "if \"BAC\" in codigo:\n",
    "    print(\"Bebida alcoolica\")\n",
    "else:\n",
    "    print(\"Bebida náo alcoolica\") \n",
    "\n",
    "\n"
   ]
  }
 ],
 "metadata": {
  "colab": {
   "provenance": []
  },
  "kernelspec": {
   "display_name": "Python 3",
   "language": "python",
   "name": "python3"
  },
  "language_info": {
   "codemirror_mode": {
    "name": "ipython",
    "version": 3
   },
   "file_extension": ".py",
   "mimetype": "text/x-python",
   "name": "python",
   "nbconvert_exporter": "python",
   "pygments_lexer": "ipython3",
   "version": "3.13.3"
  }
 },
 "nbformat": 4,
 "nbformat_minor": 0
}

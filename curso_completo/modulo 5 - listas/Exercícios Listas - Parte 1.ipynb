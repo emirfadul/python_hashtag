{
 "cells": [
  {
   "cell_type": "markdown",
   "metadata": {},
   "source": [
    "# Exercícios\n",
    "\n",
    "## 1. Faturamento do Melhor e do Pior Mês do Ano\n",
    "\n",
    "Qual foi o valor de vendas do melhor mês do Ano?\n",
    "E valor do pior mês do ano?"
   ]
  },
  {
   "cell_type": "code",
   "execution_count": 116,
   "metadata": {},
   "outputs": [
    {
     "name": "stdout",
     "output_type": "stream",
     "text": [
      "O maior valor é:  49051\n",
      "O menos valor é:  9650\n",
      "vendas ano:  [25000, 29000, 22200, 17750, 15870, 19900, 19850, 20120, 17540, 15555, 49051, 9650]\n"
     ]
    }
   ],
   "source": [
    "meses = ['jan', 'fev', 'mar', 'abr', 'mai', 'jun', 'jul', 'ago', 'set', 'out', 'nov', 'dez']\n",
    "vendas_1sem = [25000, 29000, 22200, 17750, 15870, 19900]\n",
    "vendas_2sem = [19850, 20120, 17540, 15555, 49051, 9650]\n",
    "\n",
    "vendas_1sem.extend(vendas_2sem)\n",
    "\n",
    "vendas_max = max(vendas_1sem)\n",
    "print(\"O maior valor é: \",vendas_max)\n",
    "\n",
    "vendas_min = min(vendas_1sem)\n",
    "print(\"O menos valor é: \", vendas_min)\n",
    "\n",
    "print(\"vendas ano: \",vendas_1sem)"
   ]
  },
  {
   "cell_type": "markdown",
   "metadata": {},
   "source": [
    "## 2. Continuação\n",
    "\n",
    "Agora relacione as duas listas para printar 'O melhor mês do ano foi {} com {} vendas' e o mesmo para o pior mês do ano.\n",
    "\n",
    "Calcule também o faturamento total do Ano e quanto que o melhor mês representou do faturamento total.\n",
    "\n",
    "Obs: Para o faturamento total, pode usar a função sum(lista) que soma todos os itens de uma lista"
   ]
  },
  {
   "cell_type": "code",
   "execution_count": 117,
   "metadata": {},
   "outputs": [
    {
     "name": "stdout",
     "output_type": "stream",
     "text": [
      "10\n",
      "11\n",
      "O melhor mes do ano foi nov com 49051 vendas.\n",
      "O pior mes do ano foi dez com 9650 vendas.\n",
      "O faturamento do ano foi R$ 261486.00\n",
      "O percentual do melhor mës sobre o faturamento foi 18.76 %\n"
     ]
    }
   ],
   "source": [
    "i_maior_valor = vendas_1sem.index(vendas_max)\n",
    "print(i_maior_valor)\n",
    "\n",
    "i_menor_valor = vendas_1sem.index(vendas_min)\n",
    "print(i_menor_valor)\n",
    "\n",
    "print(f\"O melhor mes do ano foi {meses[i_maior_valor]} com {vendas_max} vendas.\")\n",
    "print(f\"O pior mes do ano foi {meses[i_menor_valor]} com {vendas_min} vendas.\")\n",
    "\n",
    "faturamento = sum(vendas_1sem)\n",
    "print(f\"O faturamento do ano foi R$ {faturamento:.2f}\")\n",
    "\n",
    "percentual = (vendas_max / faturamento ) * 100\n",
    "print(f\"O percentual do melhor mës sobre o faturamento foi {percentual:.2f} %\")"
   ]
  },
  {
   "cell_type": "markdown",
   "metadata": {},
   "source": [
    "## 3. Crie uma lista com o top 3 valores de vendas do ano (sem fazer \"no olho\")\n",
    "\n",
    "Dica: o método remove retira um item da lista."
   ]
  },
  {
   "cell_type": "code",
   "execution_count": 118,
   "metadata": {},
   "outputs": [
    {
     "name": "stdout",
     "output_type": "stream",
     "text": [
      "[25000, 29000, 22200, 17750, 15870, 19900, 19850, 20120, 17540, 15555, 49051, 9650]\n",
      "[49051]\n",
      "[25000, 29000, 22200, 17750, 15870, 19900, 19850, 20120, 17540, 15555, 9650]\n",
      "[49051, 29000]\n",
      "[25000, 22200, 17750, 15870, 19900, 19850, 20120, 17540, 15555, 9650]\n",
      "O top 3 vendas é:  [49051, 29000, 25000]\n"
     ]
    }
   ],
   "source": [
    "top3 = []\n",
    "\n",
    "vendas_max = max(vendas_1sem)\n",
    "\n",
    "print(vendas_1sem)\n",
    "top3.append(vendas_max)\n",
    "vendas_1sem.remove(vendas_max)\n",
    "print(top3)\n",
    "print(vendas_1sem)\n",
    "\n",
    "vendas_max = max(vendas_1sem)\n",
    "\n",
    "top3.append(vendas_max)\n",
    "vendas_1sem.remove(vendas_max)\n",
    "print(top3)\n",
    "\n",
    "vendas_max = max(vendas_1sem)\n",
    "\n",
    "print(vendas_1sem)\n",
    "top3.append(vendas_max)\n",
    "vendas_1sem.remove(vendas_max)\n",
    "print(\"O top 3 vendas é: \",top3)\n",
    "\n",
    "\n",
    "\n",
    "\n",
    "\n"
   ]
  }
 ],
 "metadata": {
  "kernelspec": {
   "display_name": "Python 3",
   "language": "python",
   "name": "python3"
  },
  "language_info": {
   "codemirror_mode": {
    "name": "ipython",
    "version": 3
   },
   "file_extension": ".py",
   "mimetype": "text/x-python",
   "name": "python",
   "nbconvert_exporter": "python",
   "pygments_lexer": "ipython3",
   "version": "3.13.3"
  }
 },
 "nbformat": 4,
 "nbformat_minor": 4
}

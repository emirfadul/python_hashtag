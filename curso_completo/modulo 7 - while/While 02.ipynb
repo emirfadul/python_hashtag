{
 "cells": [
  {
   "cell_type": "markdown",
   "metadata": {},
   "source": [
    "# Cuidado com o while -> Loop Infinito\n",
    "\n",
    "Sempre que for usar o comando while, lembre-se de ter certeza que o programa vai terminar em algum momento\n",
    "\n",
    "### Exemplo\n",
    "\n",
    "Digamos que temos uma lista de vendedores e as quantidades vendidas e queremos identificar todos os vendedores que bateram a meta de 50 vendas."
   ]
  },
  {
   "cell_type": "code",
   "execution_count": 1,
   "metadata": {},
   "outputs": [
    {
     "name": "stdout",
     "output_type": "stream",
     "text": [
      "Maria bateu a meta e vendeu R$ 941\n",
      "José bateu a meta e vendeu R$ 852\n",
      "Antônio bateu a meta e vendeu R$ 783\n",
      "João bateu a meta e vendeu R$ 714\n",
      "Francisco bateu a meta e vendeu R$ 697\n",
      "Ana bateu a meta e vendeu R$ 686\n",
      "Luiz bateu a meta e vendeu R$ 685\n",
      "Paulo bateu a meta e vendeu R$ 670\n",
      "Carlos bateu a meta e vendeu R$ 631\n",
      "Manoel bateu a meta e vendeu R$ 453\n",
      "Pedro bateu a meta e vendeu R$ 386\n",
      "Francisca bateu a meta e vendeu R$ 371\n",
      "Marcos bateu a meta e vendeu R$ 294\n",
      "Raimundo bateu a meta e vendeu R$ 269\n",
      "Sebastião bateu a meta e vendeu R$ 259\n",
      "Antônia bateu a meta e vendeu R$ 218\n",
      "Marcelo bateu a meta e vendeu R$ 208\n",
      "Jorge bateu a meta e vendeu R$ 163\n",
      "Márcia bateu a meta e vendeu R$ 125\n",
      "Geraldo bateu a meta e vendeu R$ 102\n",
      "Adriana bateu a meta e vendeu R$ 87\n"
     ]
    }
   ],
   "source": [
    "vendas = [941, 852, 783, 714, 697, 686, 685, 670, 631, 453, 386, 371, 294, 269, 259, 218, 208, 163, 125, 102, 87, 47, 7]\n",
    "vendedores = ['Maria', 'José', 'Antônio', 'João', 'Francisco', 'Ana', 'Luiz', 'Paulo', 'Carlos', 'Manoel', 'Pedro', 'Francisca', 'Marcos', 'Raimundo', 'Sebastião', 'Antônia', 'Marcelo', 'Jorge', 'Márcia', 'Geraldo', 'Adriana', 'Sandra', 'Luis']\n",
    "meta = 50\n",
    "\n",
    "\n",
    "i = 0\n",
    "\n",
    "while vendas[i] > meta:\n",
    "    print(f\"{vendedores[i]} bateu a meta e vendeu R$ {vendas[i]}\")\n",
    "    i += 1"
   ]
  }
 ],
 "metadata": {
  "kernelspec": {
   "display_name": "Python 3",
   "language": "python",
   "name": "python3"
  },
  "language_info": {
   "codemirror_mode": {
    "name": "ipython",
    "version": 3
   },
   "file_extension": ".py",
   "mimetype": "text/x-python",
   "name": "python",
   "nbconvert_exporter": "python",
   "pygments_lexer": "ipython3",
   "version": "3.9.6"
  }
 },
 "nbformat": 4,
 "nbformat_minor": 4
}

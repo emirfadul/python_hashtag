{
 "cells": [
  {
   "cell_type": "markdown",
   "id": "ac60394f",
   "metadata": {
    "id": "ac60394f"
   },
   "source": [
    "# Estruturas de repetição\n",
    "\n",
    "<span style=\"color: red;\"><b>Todos os exercícios são feitos partindo-se do pressuposto de que todas as entradas são dadas de forma correta. Casos limite não mencionados no enunciado não são abordados porque não fazem parte do exercício.</b></span>"
   ]
  },
  {
   "cell_type": "markdown",
   "id": "017affd0",
   "metadata": {
    "id": "017affd0"
   },
   "source": [
    "#### 1. Faça um programa que peça uma nota, entre zero e dez. Mostre uma mensagem caso o valor seja inválido e continue pedindo até que o usuário informe um valor válido."
   ]
  },
  {
   "cell_type": "code",
   "execution_count": 8,
   "id": "5f12870d",
   "metadata": {
    "id": "5f12870d"
   },
   "outputs": [
    {
     "name": "stdout",
     "output_type": "stream",
     "text": [
      "nota invalida\n",
      "nota invalida\n",
      "nota invalida\n",
      "3.0\n"
     ]
    }
   ],
   "source": [
    "nota = float(input(\"qual a nota(0 a 10): \"))\n",
    "\n",
    "while not (0 <= nota <= 10):\n",
    "    print(\"nota invalida\")\n",
    "    nota = float(input(\"qual a nota(0 a 10): \"))\n",
    "\n",
    "print(nota)\n"
   ]
  },
  {
   "cell_type": "markdown",
   "id": "dd0c6d56",
   "metadata": {
    "id": "dd0c6d56"
   },
   "source": [
    "#### 2. Faça um programa que leia um nome de usuário e a sua senha e não aceite a senha igual ao nome do usuário, mostrando uma mensagem de erro e voltando a pedir as informações."
   ]
  },
  {
   "cell_type": "code",
   "execution_count": 13,
   "id": "f6579866",
   "metadata": {
    "id": "f6579866"
   },
   "outputs": [
    {
     "name": "stdout",
     "output_type": "stream",
     "text": [
      "Insira usuario diferente da senha.\n",
      "Usuario:  joao  e senha:  emir\n"
     ]
    }
   ],
   "source": [
    "user = input(\"Insira o usuario: \")\n",
    "senha = input(\"Insira a senha: \")\n",
    "\n",
    "while (user == senha):\n",
    "    print(\"Insira usuario diferente da senha.\")\n",
    "    user = input(\"Insira o usuario: \")\n",
    "    senha = input(\"Insira a senha: \")\n",
    "\n",
    "print(\"Usuario: \",user,\" e senha: \",senha)\n"
   ]
  },
  {
   "cell_type": "markdown",
   "id": "ed113a82",
   "metadata": {
    "id": "ed113a82"
   },
   "source": [
    "#### 3. Faça um programa que leia e valide as seguintes informações (e para cada uma delas, continue pedindo a informação até o usuário inserir corretamente):\n",
    "##### Nome: maior que 3 caracteres;\n",
    "##### Idade: entre 0 e 150;\n",
    "##### Salário: maior que zero;\n",
    "##### Sexo: 'f' ou 'm';\n",
    "##### Estado Civil: 's', 'c', 'v', 'd';"
   ]
  },
  {
   "cell_type": "code",
   "execution_count": 10,
   "id": "3284f187",
   "metadata": {
    "id": "3284f187"
   },
   "outputs": [
    {
     "name": "stdout",
     "output_type": "stream",
     "text": [
      "idade: 33, salario: 3456.0, sexo: feminino e estado civil: solteiro\n"
     ]
    }
   ],
   "source": [
    "nome = input(\"Insira o nome: \")\n",
    "while len(nome) < 3:\n",
    "    nome = input(\"Insira o nome: \")\n",
    "\n",
    "idade = int(input(\"Insira a idade: \"))\n",
    "while idade > 150:\n",
    "    idade = int(input(\"Insira a idade: \"))\n",
    "\n",
    "salario = float(input(\"Insira o salario: \"))\n",
    "while salario < 0:\n",
    "    salario = float(input(\"Insira o salario: \"))\n",
    "\n",
    "sexo = input(\"Insira o sexo (f ou m): \")\n",
    "while not sexo in ['f','m']:  \n",
    "    sexo = input(\"Insira o sexo (f ou m): \")\n",
    "    \n",
    "\n",
    "est_civil = input(\"Insira o estado civil(s,c,v,d): \")\n",
    "while not (est_civil == 's'or est_civil == 'c' or est_civil == 'v' or est_civil == 'd'):\n",
    " \n",
    "    est_civil = input(\"Insira o estado civil(s,c,v,d): \")\n",
    "\n",
    "\n",
    "if sexo == 'f':\n",
    "    sexo = \"feminino\"\n",
    "elif sexo == 'm':\n",
    "    sexo = \"masculino\"\n",
    "\n",
    "if est_civil == 's':\n",
    "    est_civil = \"solteiro\"\n",
    "elif est_civil == 'c':\n",
    "    est_civil = \"casado\"\n",
    "elif est_civil == 'v':\n",
    "    est_civil = \"viuvo\"\n",
    "elif est_civil == 'd':\n",
    "    est_civil = \"divorciado\"\n",
    " \n",
    "                    \n",
    "print(f\"idade: {idade}, salario: {salario}, sexo: {sexo} e estado civil: {est_civil}\") \n",
    "              \n",
    "\n",
    "\n"
   ]
  },
  {
   "cell_type": "markdown",
   "id": "2f25dceb",
   "metadata": {
    "id": "2f25dceb"
   },
   "source": [
    "#### 4. Supondo que a população de um país A seja da ordem de 80000 habitantes com uma taxa anual de crescimento de 3% e que a população de B seja 200000 habitantes com uma taxa de crescimento de 1.5%. Faça um programa que calcule e escreva o número de anos necessários para que a população do país A ultrapasse ou iguale a população do país B, mantidas as taxas de crescimento."
   ]
  },
  {
   "cell_type": "code",
   "execution_count": 3,
   "id": "7ad0f5e9",
   "metadata": {
    "id": "7ad0f5e9"
   },
   "outputs": [
    {
     "name": "stdout",
     "output_type": "stream",
     "text": [
      "o numero de anos necessário para que a populaçao A ultrapasse a populaçao B é de 63 anos\n"
     ]
    }
   ],
   "source": [
    "a = 80000\n",
    "b = 200000\n",
    "\n",
    "tempo = 0\n",
    "\n",
    "while a < b:\n",
    "    a *= 1.03\n",
    "    b *= 1.015\n",
    "    tempo += 1\n",
    "\n",
    "print(f\"o numero de anos necessário para que a populaçao A ultrapasse a populaçao B é de {tempo} anos\")   "
   ]
  },
  {
   "cell_type": "markdown",
   "id": "e9626858",
   "metadata": {
    "id": "e9626858"
   },
   "source": [
    "#### 5. Altere o programa anterior permitindo ao usuário informar as populações e as taxas de crescimento iniciais. Valide a entrada e permita repetir a operação."
   ]
  },
  {
   "cell_type": "code",
   "execution_count": 9,
   "id": "c7e250a4",
   "metadata": {
    "id": "c7e250a4"
   },
   "outputs": [
    {
     "name": "stdout",
     "output_type": "stream",
     "text": [
      "o numero de anos necessário para que a populaçao A ultrapasse a populaçao B é de 21 anos\n"
     ]
    }
   ],
   "source": [
    "a = int(input(\"populaçao A: \"))\n",
    "tx_a = float(input(\"informe a taxa de crescimento de A: \"))\n",
    "b = int(input(\"populaçao B: \"))\n",
    "tx_b = float(input(\"informe a taxa de crescimento de B: \"))\n",
    "\n",
    "tempo = 0\n",
    "\n",
    "while a < b:\n",
    "    a *= tx_a\n",
    "    b *= tx_b\n",
    "    tempo += 1\n",
    "\n",
    "print(f\"o numero de anos necessário para que a populaçao A ultrapasse a populaçao B é de {tempo} anos\")"
   ]
  },
  {
   "cell_type": "markdown",
   "id": "b3d268b5",
   "metadata": {
    "id": "b3d268b5"
   },
   "source": [
    "#### 6. Faça um programa que peça para o usuário inserir o faturamento dos últimos 5 meses (individualmente) e informe o maior faturamento"
   ]
  },
  {
   "cell_type": "code",
   "execution_count": null,
   "id": "8078e7a5",
   "metadata": {
    "id": "8078e7a5"
   },
   "outputs": [
    {
     "name": "stdout",
     "output_type": "stream",
     "text": [
      "O maior faturamento foi 50\n"
     ]
    }
   ],
   "source": [
    "jan = input(\"informe o fatumento do mes janeiro: \")\n",
    "fev = input(\"informe o fatumento do mes fevereiro: \")\n",
    "mar = input(\"informe o fatumento do mes março: \")\n",
    "abr = input(\"informe o fatumento do mes abril: \")\n",
    "mai = input(\"informe o fatumento do mes maio: \")\n",
    "\n",
    "faturamento = [jan,fev,mar,abr,mai]\n",
    "print(f\"O maior faturamento foi {max(faturamento)}\")"
   ]
  },
  {
   "cell_type": "markdown",
   "id": "6407824c",
   "metadata": {
    "id": "6407824c"
   },
   "source": [
    "#### 7. Faça um programa que peça para o usuário inserir o faturamento dos últimos 5 meses (individualmente) e informe o faturamento total (soma) e o faturamento médio por mês (média)."
   ]
  },
  {
   "cell_type": "code",
   "execution_count": 21,
   "id": "a02320d1",
   "metadata": {
    "id": "a02320d1"
   },
   "outputs": [
    {
     "name": "stdout",
     "output_type": "stream",
     "text": [
      "O faturamento total foi 150 e o fatumento medio foi 30\n"
     ]
    }
   ],
   "source": [
    "jan = int(input(\"informe o fatumento do mes janeiro: \"))\n",
    "fev = int(input(\"informe o fatumento do mes fevereiro: \"))\n",
    "mar = int(input(\"informe o fatumento do mes março: \"))\n",
    "abr = int(input(\"informe o fatumento do mes abril: \"))\n",
    "mai = int(input(\"informe o fatumento do mes maio: \"))\n",
    "\n",
    "faturamento = [jan,fev,mar,abr,mai]\n",
    "i = len(faturamento)\n",
    "fat_total = int(sum(faturamento))\n",
    "fat_media = int(fat_total / i)\n",
    "print(f\"O faturamento total foi {fat_total} e o fatumento medio foi {fat_media}\")"
   ]
  },
  {
   "cell_type": "markdown",
   "id": "703f3c4d",
   "metadata": {
    "id": "703f3c4d"
   },
   "source": [
    "#### 8. Faça um programa que consiga categorizar a idade das equipes de uma empresa. Faça um programa que peça para n pessoas a sua idade, ao final o programa devera verificar se a média de idade da equipe varia entre 0 e 25 (jovem) ,26 e 60 (sênior) e maior que 60 (idosa); e então, dizer se a equipe é jovem, sênior ou idosa, conforme a média calculada."
   ]
  },
  {
   "cell_type": "code",
   "execution_count": null,
   "id": "b56a85de",
   "metadata": {
    "id": "b56a85de"
   },
   "outputs": [
    {
     "name": "stdout",
     "output_type": "stream",
     "text": [
      "equipe JOVEM\n"
     ]
    }
   ],
   "source": [
    "qtde = int(input(\"Qual a quantidade de pessoas: \"))\n",
    "total = 0\n",
    "\n",
    "for i in range(qtde):\n",
    "    idade = int(input(\"Qual sua idade: \"))\n",
    "    total += idade\n",
    "\n",
    "media = total / qtde\n",
    "\n",
    "if 0 <= media <= 25:\n",
    "    print(\"equipe JOVEM\")\n",
    "elif 25 < media <= 60:\n",
    "    print(\"equipe SENIOR\")\n",
    "else:\n",
    "    print(\"equipe IDOSA\")"
   ]
  },
  {
   "cell_type": "markdown",
   "id": "aad21b98",
   "metadata": {
    "id": "aad21b98"
   },
   "source": [
    "#### 9. Numa eleição existem três candidatos. Faça um programa que peça o número total de eleitores. Peça para cada eleitor votar e ao final mostrar o número de votos de cada candidato."
   ]
  },
  {
   "cell_type": "code",
   "execution_count": 40,
   "id": "84aa7a93",
   "metadata": {
    "id": "84aa7a93"
   },
   "outputs": [
    {
     "name": "stdout",
     "output_type": "stream",
     "text": [
      "Total de votos de A: 1\n",
      "Total de votos de B: 1\n",
      "Total de votos de C: 1\n"
     ]
    }
   ],
   "source": [
    "total_eleitores = int(input(\"Qual nr total de eleitores: \"))\n",
    "\n",
    "a = 0\n",
    "b = 0\n",
    "c = 0\n",
    "\n",
    "for i in range(qtde):\n",
    "    voto = int(input(f\"Qual voto do eleitor {i+1} escolha (1,2,3): \"))\n",
    "    if voto == 1:\n",
    "        a += 1\n",
    "    elif voto == 2:\n",
    "        b += 1\n",
    "    elif voto == 3:\n",
    "        c += 1\n",
    "\n",
    "print(f\"Total de votos de A: {a}\")\n",
    "print(f\"Total de votos de B: {b}\")\n",
    "print(f\"Total de votos de C: {c}\")"
   ]
  },
  {
   "cell_type": "markdown",
   "id": "6e306453",
   "metadata": {
    "id": "6e306453"
   },
   "source": [
    "#### 10. Faça um programa que calcule o valor total investido por um colecionador em sua coleção de CDs e o valor médio gasto em cada um deles. O usuário deverá informar a quantidade de CDs e o valor para em cada um."
   ]
  },
  {
   "cell_type": "code",
   "execution_count": 43,
   "id": "6b7fa4a2",
   "metadata": {
    "id": "6b7fa4a2"
   },
   "outputs": [
    {
     "name": "stdout",
     "output_type": "stream",
     "text": [
      "O valor medio dos CDs é R$ 15.67\n"
     ]
    }
   ],
   "source": [
    "qtde = int(input(\"Qual quantidade de CDs: \"))\n",
    "total = 0\n",
    "\n",
    "for i in range(qtde):\n",
    "    valor = int(input(f\"Qual o valor do {i+1}º CD : \"))\n",
    "    total += valor\n",
    "\n",
    "print(f\"O valor medio dos CDs é R$ {total/qtde:.2f}\")\n",
    "\n"
   ]
  },
  {
   "cell_type": "markdown",
   "id": "f19c8d86",
   "metadata": {
    "id": "f19c8d86"
   },
   "source": [
    "#### 11. O Sr. Manoel Joaquim possui uma grande loja de artigos de R\\\\$ 1,99, com cerca de 10 caixas. Para agilizar o cálculo de quanto cada cliente deve pagar ele desenvolveu um tabela que contém o número de itens que o cliente comprou e ao lado o valor da conta. Desta forma a atendente do caixa precisa apenas contar quantos itens o cliente está levando e olhar na tabela de preços. Você foi contratado para desenvolver o programa que monta esta tabela de preços, que conterá os preços de 1 até 50 produtos, conforme o exemplo abaixo:\n",
    "<pre>\n",
    "Lojas Quase Dois - Tabela de preços\n",
    "1 - R$ 1.99\n",
    "2 - R$ 3.98\n",
    "...\n",
    "50 - R$ 99.50\n",
    "</pre>"
   ]
  },
  {
   "cell_type": "code",
   "execution_count": 45,
   "id": "4fc4d54d",
   "metadata": {
    "id": "4fc4d54d"
   },
   "outputs": [
    {
     "name": "stdout",
     "output_type": "stream",
     "text": [
      "1 - 1.99\n",
      "2 - 3.98\n",
      "3 - 5.97\n",
      "4 - 7.96\n",
      "5 - 9.95\n",
      "6 - 11.94\n",
      "7 - 13.93\n",
      "8 - 15.92\n",
      "9 - 17.91\n",
      "10 - 19.9\n",
      "11 - 21.89\n",
      "12 - 23.88\n",
      "13 - 25.87\n",
      "14 - 27.86\n",
      "15 - 29.85\n",
      "16 - 31.84\n",
      "17 - 33.83\n",
      "18 - 35.82\n",
      "19 - 37.81\n",
      "20 - 39.8\n",
      "21 - 41.79\n",
      "22 - 43.78\n",
      "23 - 45.77\n",
      "24 - 47.76\n",
      "25 - 49.75\n",
      "26 - 51.74\n",
      "27 - 53.73\n",
      "28 - 55.72\n",
      "29 - 57.71\n",
      "30 - 59.7\n",
      "31 - 61.69\n",
      "32 - 63.68\n",
      "33 - 65.67\n",
      "34 - 67.66\n",
      "35 - 69.65\n",
      "36 - 71.64\n",
      "37 - 73.63\n",
      "38 - 75.62\n",
      "39 - 77.61\n",
      "40 - 79.6\n",
      "41 - 81.59\n",
      "42 - 83.58\n",
      "43 - 85.57\n",
      "44 - 87.56\n",
      "45 - 89.55\n",
      "46 - 91.54\n",
      "47 - 93.53\n",
      "48 - 95.52\n",
      "49 - 97.51\n",
      "50 - 99.5\n"
     ]
    }
   ],
   "source": [
    "for i in range(50):\n",
    "    print(f\"{i+1} - {(i+1) * 1.99}\")\n"
   ]
  },
  {
   "cell_type": "markdown",
   "id": "6cd19c52",
   "metadata": {
    "id": "6cd19c52"
   },
   "source": [
    "#### 12. Um funcionário de uma empresa recebe aumento salarial anualmente: Sabe-se que:\n",
    "<pre>\n",
    "Esse funcionário foi contratado em 1995, com salário inicial de R$ 1.000,00;\n",
    "Em 1996 recebeu aumento de 1,5% sobre seu salário inicial;\n",
    "A partir de 1997 (inclusive), os aumentos salariais sempre correspondem ao dobro do percentual do ano anterior. Faça um programa que determine o salário desse funcionário em 2003. \n",
    "</pre>"
   ]
  },
  {
   "cell_type": "code",
   "execution_count": null,
   "id": "98a4811b",
   "metadata": {
    "id": "98a4811b"
   },
   "outputs": [],
   "source": []
  },
  {
   "cell_type": "markdown",
   "id": "227928d1",
   "metadata": {
    "id": "227928d1"
   },
   "source": [
    "#### 13. O cardápio de uma lanchonete é o seguinte:\n",
    "<pre>\n",
    "Especificação   Código  Preço\n",
    "Cachorro Quente 100     R$ 1,20\n",
    "Bauru Simples   101     R$ 1,30\n",
    "Bauru com ovo   102     R$ 1,50\n",
    "Hambúrguer      103     R$ 1,20\n",
    "Cheeseburguer   104     R$ 1,30\n",
    "Refrigerante    105     R$ 1,00\n",
    "Faça um programa que leia o código dos itens pedidos e as quantidades desejadas. Calcule e mostre o valor a ser pago por item (preço * quantidade) e o total geral do pedido. Considere que o cliente deve informar quando o pedido deve ser encerrado.\n",
    "</pre>"
   ]
  },
  {
   "cell_type": "code",
   "execution_count": null,
   "id": "8a784b86",
   "metadata": {
    "id": "8a784b86"
   },
   "outputs": [],
   "source": []
  },
  {
   "cell_type": "markdown",
   "id": "9877b8ba",
   "metadata": {
    "id": "9877b8ba"
   },
   "source": [
    "#### 14. Uma grande emissora de televisão quer fazer uma enquete entre os seus telespectadores para saber qual o melhor jogador após cada jogo. Para isto, faz-se necessário o desenvolvimento de um programa, que será utilizado pelas telefonistas, para a computação dos votos. Sua equipe foi contratada para desenvolver este programa, utilizando a linguagem de programação Python. Para computar cada voto, a telefonista digitará um número, entre 1 e 23, correspondente ao número da camisa do jogador. Um número de jogador igual zero, indica que a votação foi encerrada. Se um número inválido for digitado, o programa deve ignorá-lo, mostrando uma breve mensagem de aviso, e voltando a pedir outro número. Após o final da votação, o programa deverá exibir:\n",
    "<pre>a. O total de votos computados;\n",
    "b. Os números e respectivos votos de todos os jogadores que receberam votos;\n",
    "c. O percentual de votos de cada um destes jogadores;\n",
    "d. O número do jogador escolhido como o melhor jogador da partida, juntamente com o número de votos e o percentual de votos dados a ele.\n",
    "        Observe que os votos inválidos e o zero final não devem ser computados como votos. O resultado aparece ordenado pelo número do jogador. O programa deve fazer uso de arrays. O programa deverá executar o cálculo do percentual de cada jogador através de uma função. Esta função receberá dois parâmetros: o número de votos de um jogador e o total de votos. A função calculará o percentual e retornará o valor calculado. Abaixo segue uma tela de exemplo. O disposição das informações deve ser o mais próxima possível ao exemplo. Os dados são fictícios e podem mudar a cada execução do programa. Ao final, o programa deve ainda gravar os dados referentes ao resultado da votação em um arquivo texto no disco, obedecendo a mesma disposição apresentada na tela.</pre>\n",
    "```\n",
    "Enquete: Quem foi o melhor jogador?\n",
    "\n",
    "Número do jogador (0=fim): 9\n",
    "Número do jogador (0=fim): 10\n",
    "Número do jogador (0=fim): 9\n",
    "Número do jogador (0=fim): 10\n",
    "Número do jogador (0=fim): 11\n",
    "Número do jogador (0=fim): 10\n",
    "Número do jogador (0=fim): 50\n",
    "Informe um valor entre 1 e 23 ou 0 para sair!\n",
    "Número do jogador (0=fim): 9\n",
    "Número do jogador (0=fim): 9\n",
    "Número do jogador (0=fim): 0\n",
    "\n",
    "Resultado da votação:\n",
    "\n",
    "Foram computados 8 votos.\n",
    "\n",
    "Jogador Votos           %\n",
    "9               4               50,0%\n",
    "10              3               37,5%\n",
    "11              1               12,5%\n",
    "``` "
   ]
  },
  {
   "cell_type": "code",
   "execution_count": null,
   "id": "79b82364",
   "metadata": {
    "id": "79b82364"
   },
   "outputs": [],
   "source": []
  }
 ],
 "metadata": {
  "colab": {
   "collapsed_sections": [],
   "provenance": []
  },
  "kernelspec": {
   "display_name": "Python 3",
   "language": "python",
   "name": "python3"
  },
  "language_info": {
   "codemirror_mode": {
    "name": "ipython",
    "version": 3
   },
   "file_extension": ".py",
   "mimetype": "text/x-python",
   "name": "python",
   "nbconvert_exporter": "python",
   "pygments_lexer": "ipython3",
   "version": "3.9.6"
  }
 },
 "nbformat": 4,
 "nbformat_minor": 5
}

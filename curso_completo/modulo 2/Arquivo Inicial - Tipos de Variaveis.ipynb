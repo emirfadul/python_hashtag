{
 "cells": [
  {
   "cell_type": "code",
   "execution_count": 10,
   "metadata": {},
   "outputs": [
    {
     "name": "stdout",
     "output_type": "stream",
     "text": [
      "<class 'int'>\n",
      "O faturamento da loja foi 2500\n",
      "O faturamento da loja foi R$ 2500 \n",
      "O custo da loja foi R$ 1000 \n",
      "O lucro da loja foi R$ 1500 \n"
     ]
    }
   ],
   "source": [
    "faturamento = 2500\n",
    "custo = 1000\n",
    "lucro = faturamento - custo\n",
    "\n",
    "print(type(faturamento))\n",
    "\n",
    "print('O faturamento da loja foi ' + str(faturamento))\n",
    "print(f\"O faturamento da loja foi R$ {faturamento} \")\n",
    "print(f\"O custo da loja foi R$ {custo} \")\n",
    "print(f\"O lucro da loja foi R$ {lucro} \")"
   ]
  }
 ],
 "metadata": {
  "kernelspec": {
   "display_name": "Python 3",
   "language": "python",
   "name": "python3"
  },
  "language_info": {
   "codemirror_mode": {
    "name": "ipython",
    "version": 3
   },
   "file_extension": ".py",
   "mimetype": "text/x-python",
   "name": "python",
   "nbconvert_exporter": "python",
   "pygments_lexer": "ipython3",
   "version": "3.13.3"
  }
 },
 "nbformat": 4,
 "nbformat_minor": 4
}

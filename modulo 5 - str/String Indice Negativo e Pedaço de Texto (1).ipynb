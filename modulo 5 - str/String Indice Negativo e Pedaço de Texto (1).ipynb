{
 "cells": [
  {
   "cell_type": "raw",
   "metadata": {},
   "source": [
    "Texto: lira@gmail.com\n",
    "\n",
    "-14 -13 -12 -11 -10 -9 -8 -7 -6 -5 -4 -3 -2 -1\n",
    "  l   i   r   a   @  g  m  a  i  l  .  c  o  m\n",
    "  0   1   2   3   4  5  6  7  8  9 10 11 12 13\n",
    "  \n",
    "Para pegar um texto de trás para frente: texto[índice] -> onde índice é negativo\n",
    "Para pegar o pedaço de um texto use : (dois pontos). texto[:indice] ou texto[indice:] ou ainda texto[indice:indice]"
   ]
  },
  {
   "cell_type": "code",
   "execution_count": 13,
   "metadata": {},
   "outputs": [
    {
     "name": "stdout",
     "output_type": "stream",
     "text": [
      "m\n",
      "lira@\n",
      "gmail.com\n"
     ]
    }
   ],
   "source": [
    "email = 'lira@gmail.com'\n",
    "nome = 'João Paulo Lira'\n",
    "\n",
    "print(email[-1])\n",
    "\n",
    "print(email[:5])\n",
    "print(email[5:])\n"
   ]
  },
  {
   "cell_type": "markdown",
   "metadata": {},
   "source": [
    "Exercícios para Fixação:\n",
    "Basta completar os prints de forma correta"
   ]
  },
  {
   "cell_type": "code",
   "execution_count": 14,
   "metadata": {},
   "outputs": [
    {
     "name": "stdout",
     "output_type": "stream",
     "text": [
      "Tamanho do e-mail 14 caracteres\n",
      "tamanho do email  14\n",
      "Tamanho do email é 14\n",
      "Primeiro Caractere ?\n",
      "Último Caractere ?\n",
      "Servidor do email ?\n"
     ]
    }
   ],
   "source": [
    "print('Tamanho do e-mail ' + str(len(email)) + ' caracteres')\n",
    "print(\"tamanho do email \",len(email))\n",
    "print(f\"Tamanho do email é {len(email)}\")\n",
    "\n",
    "print('Primeiro Caractere ' + '?')\n",
    "print('Último Caractere ' + '?')\n",
    "print('Servidor do email ' + '?')"
   ]
  }
 ],
 "metadata": {
  "kernelspec": {
   "display_name": "Python 3",
   "language": "python",
   "name": "python3"
  },
  "language_info": {
   "codemirror_mode": {
    "name": "ipython",
    "version": 3
   },
   "file_extension": ".py",
   "mimetype": "text/x-python",
   "name": "python",
   "nbconvert_exporter": "python",
   "pygments_lexer": "ipython3",
   "version": "3.13.3"
  }
 },
 "nbformat": 4,
 "nbformat_minor": 4
}

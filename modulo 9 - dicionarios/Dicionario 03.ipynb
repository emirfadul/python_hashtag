{
 "cells": [
  {
   "cell_type": "markdown",
   "metadata": {},
   "source": [
    "# Adicionar, Remover e Modificar Itens no Dicionário\n",
    "\n",
    "### Estrutura:\n",
    "\n",
    "- Adicionar itens:"
   ]
  },
  {
   "cell_type": "raw",
   "metadata": {},
   "source": [
    "dicionario = {}\n",
    "\n",
    "dicionario[chave] = valor\n",
    "\n",
    "outra opção:\n",
    "\n",
    "dicionario.update({chave: valor, chave: valor})"
   ]
  },
  {
   "cell_type": "code",
   "execution_count": 54,
   "metadata": {},
   "outputs": [
    {
     "name": "stdout",
     "output_type": "stream",
     "text": [
      "lucro 1 tri antes {'janeiro': 100000, 'fevereiro': 120000, 'março': 90000}\n",
      "lucro 2 tri antes {'abril': 88000, 'maio': 89000, 'junho': 120000}\n",
      "lucro 1 tri {'janeiro': 100000, 'fevereiro': 120000, 'março': 90000, 'abril': 25000}\n",
      "lucro 2 tri {'abril': 88000, 'maio': 89000, 'junho': 120000, 'julho': 30000}\n",
      "lucro 1 tri depois {'janeiro': 100000, 'fevereiro': 120000, 'março': 90000, 'abril': 25000, 'maio': 60000, 'junho': 90000}\n",
      "lucro 1 trimestre:  {'janeiro': 100000, 'fevereiro': 120000, 'março': 90000, 'abril': 88000, 'maio': 89000, 'junho': 120000, 'julho': 30000}\n",
      "lucro 1 semestre {'janeiro': 100000, 'fevereiro': 120000, 'março': 90000, 'abril': 88000, 'maio': 89000, 'junho': 120000, 'julho': 30000}\n",
      "modificando o janeiro {'janeiro': 89000, 'fevereiro': 120000, 'março': 90000, 'abril': 88000, 'maio': 89000, 'junho': 120000, 'julho': 30000}\n"
     ]
    }
   ],
   "source": [
    "lucro_1tri = {'janeiro': 100000, 'fevereiro': 120000, 'março': 90000}\n",
    "lucro_2tri = {'abril': 88000, 'maio': 89000, 'junho': 120000}\n",
    "lucro_1sem = {}\n",
    "\n",
    "print(\"lucro 1 tri antes\",lucro_1tri)\n",
    "print(\"lucro 2 tri antes\",lucro_2tri)\n",
    "\n",
    "#adicionando 1 item\n",
    "lucro_1tri['abril'] = 25000\n",
    "lucro_2tri['julho'] = 30000\n",
    "\n",
    "print(\"lucro 1 tri\",lucro_1tri)\n",
    "print(\"lucro 2 tri\",lucro_2tri)\n",
    "\n",
    "#adicionando vários itens ou um dicionário a outro\n",
    "lucro_1tri.update({'maio': 60000, 'junho': 90000})\n",
    "print(\"lucro 1 tri depois\",lucro_1tri)\n",
    "\n",
    "lucro_1tri.update(lucro_2tri)\n",
    "print(\"lucro 1 trimestre: \",lucro_1tri)\n",
    "\n",
    "lucro_1sem.update(lucro_1tri)\n",
    "print(\"lucro 1 semestre\",lucro_1sem)\n",
    "\n",
    "#adicionando um item já existente (manualmente ou pelo update)\n",
    "lucro_1tri['janeiro'] = 89000\n",
    "print(f\"modificando o janeiro {lucro_1tri}\")"
   ]
  },
  {
   "cell_type": "markdown",
   "metadata": {},
   "source": [
    "- Modificar itens:\n",
    "\n",
    "Da mesma forma que adicionamos 1 valor, caso essa chave já exista o item é apenas modificado.\n",
    "\n",
    "dicionario[chave] = valor\n",
    "\n",
    "Vamos modificar o lucro de fevereiro:<br>\n",
    "(Lembrando: caso o item não exista, ele vai criar o item no dicionário)"
   ]
  },
  {
   "cell_type": "code",
   "execution_count": 55,
   "metadata": {},
   "outputs": [
    {
     "name": "stdout",
     "output_type": "stream",
     "text": [
      "{'janeiro': 89000, 'fevereiro': 85000, 'março': 90000, 'abril': 88000, 'maio': 89000, 'junho': 120000, 'julho': 30000}\n"
     ]
    }
   ],
   "source": [
    "lucro_fev = 85000\n",
    "\n",
    "lucro_1tri['fevereiro'] = lucro_fev\n",
    "print(lucro_1tri)"
   ]
  },
  {
   "cell_type": "markdown",
   "metadata": {},
   "source": [
    "- Remover itens:\n",
    "\n",
    "del dicionario[chave]\n",
    "\n",
    "ou então\n",
    "\n",
    "valor = dicionario.pop(chave)\n",
    "\n",
    "mas cuidado com:\n",
    "\n",
    "del dicionario<br>    ->    que é diferente de dicionario.clear()"
   ]
  },
  {
   "cell_type": "code",
   "execution_count": 56,
   "metadata": {},
   "outputs": [
    {
     "name": "stdout",
     "output_type": "stream",
     "text": [
      "{'fevereiro': 85000, 'março': 90000, 'abril': 88000, 'maio': 89000, 'junho': 120000, 'julho': 30000}\n",
      "88000\n",
      "['João', 'Maria', 'Ana', 'Paula']\n",
      "['João', 'Maria', 'Ana', 'Paula', 'Lira']\n"
     ]
    }
   ],
   "source": [
    "#removendo o mês de junho\n",
    "\n",
    "del lucro_1tri['janeiro']\n",
    "print(lucro_1tri)\n",
    "\n",
    "deletado = lucro_1tri.pop('abril')\n",
    "print(deletado)\n",
    "\n",
    "#obs: o del também funciona para listas, caso queira usar\n",
    "#del lista[i]\n",
    "funcionarios = ['João', 'Lira', 'Maria', 'Ana', 'Paula']\n",
    "del funcionarios[1]\n",
    "print(funcionarios)\n",
    "funcionarios.append('Lira')\n",
    "print(funcionarios)"
   ]
  }
 ],
 "metadata": {
  "kernelspec": {
   "display_name": "Python 3",
   "language": "python",
   "name": "python3"
  },
  "language_info": {
   "codemirror_mode": {
    "name": "ipython",
    "version": 3
   },
   "file_extension": ".py",
   "mimetype": "text/x-python",
   "name": "python",
   "nbconvert_exporter": "python",
   "pygments_lexer": "ipython3",
   "version": "3.9.6"
  }
 },
 "nbformat": 4,
 "nbformat_minor": 4
}

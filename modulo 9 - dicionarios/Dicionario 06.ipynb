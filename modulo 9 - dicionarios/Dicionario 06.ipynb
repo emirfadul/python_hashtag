{
 "cells": [
  {
   "cell_type": "markdown",
   "metadata": {},
   "source": [
    "# Métodos úteis em dicionários\n",
    "\n",
    "## items() dos dicionários\n",
    "\n",
    "### Estrutura:"
   ]
  },
  {
   "cell_type": "raw",
   "metadata": {},
   "source": [
    "itens_dicionario = dicionario.items()\n",
    "\n",
    "ou então:\n",
    "\n",
    "for item in dicionario.items()\n",
    "    cada item do dicionario em formato de tupla"
   ]
  },
  {
   "cell_type": "code",
   "execution_count": 21,
   "metadata": {},
   "outputs": [
    {
     "name": "stdout",
     "output_type": "stream",
     "text": [
      "('notebook asus', 2450)\n",
      "('iphone', 15000)\n",
      "('samsung galaxy', 12000)\n",
      "('tv samsung', 10000)\n",
      "('ps5', 14300)\n",
      "('tablet', 1720)\n",
      "('notebook dell', 17000)\n",
      "('ipad', 1000)\n",
      "('tv philco', 2500)\n",
      "('notebook hp', 1000)\n",
      "notebook asus : 2450\n",
      "iphone : 15000\n",
      "samsung galaxy : 12000\n",
      "tv samsung : 10000\n",
      "ps5 : 14300\n",
      "tablet : 1720\n",
      "notebook dell : 17000\n",
      "ipad : 1000\n",
      "tv philco : 2500\n",
      "notebook hp : 1000\n"
     ]
    }
   ],
   "source": [
    "vendas_tecnologia = {'notebook asus': 2450, 'iphone': 15000, 'samsung galaxy': 12000, 'tv samsung': 10000, 'ps5': 14300, 'tablet': 1720, 'notebook dell': 17000, 'ipad': 1000, 'tv philco': 2500, 'notebook hp': 1000}\n",
    "\n",
    "for item in vendas_tecnologia.items():\n",
    "    print(item)\n",
    "\n",
    "for produto, qtde in vendas_tecnologia.items():\n",
    "    print(f\"{produto} : {qtde}\")\n",
    "\n"
   ]
  },
  {
   "cell_type": "markdown",
   "metadata": {},
   "source": [
    "- Quais produtos venderam mais de 5000 unidades?"
   ]
  },
  {
   "cell_type": "code",
   "execution_count": 24,
   "metadata": {},
   "outputs": [
    {
     "name": "stdout",
     "output_type": "stream",
     "text": [
      "iphone : 15000\n",
      "samsung galaxy : 12000\n",
      "tv samsung : 10000\n",
      "ps5 : 14300\n",
      "notebook dell : 17000\n",
      "iphone  :  15000\n",
      "samsung galaxy  :  12000\n",
      "tv samsung  :  10000\n",
      "ps5  :  14300\n",
      "notebook dell  :  17000\n"
     ]
    }
   ],
   "source": [
    "#forma 1 -> usando apenas o dicionario e as chaves\n",
    "\n",
    "for chave in vendas_tecnologia:\n",
    "    if vendas_tecnologia[chave] > 5000:\n",
    "        print(f\"{chave} : {vendas_tecnologia[chave]}\")\n",
    "\n",
    "#forma 2 -> usando o dicionario.items()\n",
    "for produto,qtde in vendas_tecnologia.items():\n",
    "    if qtde > 5000:\n",
    "        print (produto,\" : \",qtde)"
   ]
  }
 ],
 "metadata": {
  "kernelspec": {
   "display_name": "Python 3",
   "language": "python",
   "name": "python3"
  },
  "language_info": {
   "codemirror_mode": {
    "name": "ipython",
    "version": 3
   },
   "file_extension": ".py",
   "mimetype": "text/x-python",
   "name": "python",
   "nbconvert_exporter": "python",
   "pygments_lexer": "ipython3",
   "version": "3.13.3"
  }
 },
 "nbformat": 4,
 "nbformat_minor": 4
}

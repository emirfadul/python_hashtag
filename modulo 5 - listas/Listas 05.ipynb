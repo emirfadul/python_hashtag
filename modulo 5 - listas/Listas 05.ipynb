{
 "cells": [
  {
   "cell_type": "markdown",
   "metadata": {},
   "source": [
    "# Algumas Funções Básicas de Lista\n",
    "\n",
    "## Tamanho da Lista\n",
    "\n",
    "tamanho = len(lista)"
   ]
  },
  {
   "cell_type": "code",
   "execution_count": 21,
   "metadata": {},
   "outputs": [],
   "source": [
    "produtos = ['apple tv', 'mac', 'iphone x', 'IPad', 'apple watch', 'mac book', 'airpods']"
   ]
  },
  {
   "cell_type": "markdown",
   "metadata": {},
   "source": [
    "- Quantos produtos temos a venda?"
   ]
  },
  {
   "cell_type": "code",
   "execution_count": 22,
   "metadata": {},
   "outputs": [
    {
     "name": "stdout",
     "output_type": "stream",
     "text": [
      "7\n"
     ]
    }
   ],
   "source": [
    "qtde = len(produtos)\n",
    "print(qtde)"
   ]
  },
  {
   "cell_type": "markdown",
   "metadata": {},
   "source": [
    "## Maior e Menor Valor\n",
    "\n",
    "maior = max(lista)\n",
    "\n",
    "menor = min(lista)"
   ]
  },
  {
   "cell_type": "code",
   "execution_count": 23,
   "metadata": {},
   "outputs": [],
   "source": [
    "vendas = [1000, 1500, 15000, 270, 900, 100, 1200]\n",
    "\n"
   ]
  },
  {
   "cell_type": "markdown",
   "metadata": {},
   "source": [
    "- Qual o item mais vendido?\n",
    "- Qual o item menos vendido?"
   ]
  },
  {
   "cell_type": "code",
   "execution_count": 24,
   "metadata": {},
   "outputs": [
    {
     "name": "stdout",
     "output_type": "stream",
     "text": [
      "Mais vendidos: 15000\n",
      "Menos vendidos:  100\n"
     ]
    }
   ],
   "source": [
    "maior = max(vendas)\n",
    "print(f\"Mais vendidos: {maior}\")\n",
    "\n",
    "menor = min(vendas)\n",
    "print(\"Menos vendidos: \",menor)"
   ]
  },
  {
   "cell_type": "code",
   "execution_count": 28,
   "metadata": {},
   "outputs": [
    {
     "name": "stdout",
     "output_type": "stream",
     "text": [
      "2\n",
      "O indice do produto mais vendido é:  2\n",
      "O produto menos vendido:  iphone x\n",
      "5\n",
      "O indice do produto menos vendido é:  5\n",
      "O produto menos vendido:  mac book\n"
     ]
    }
   ],
   "source": [
    "i = vendas.index(maior)\n",
    "print (i)\n",
    "produto_mais_vendido = produtos[i]\n",
    "print(\"O indice do produto mais vendido é: \",i)\n",
    "print(\"O produto menos vendido: \",produto_mais_vendido)\n",
    "\n",
    "\n",
    "i = vendas.index(menor)\n",
    "print(i)\n",
    "produto_menos_vendido = produtos[i]\n",
    "print(\"O indice do produto menos vendido é: \",i)\n",
    "print(\"O produto menos vendido: \",produto_menos_vendido)\n",
    "\n",
    "\n"
   ]
  }
 ],
 "metadata": {
  "kernelspec": {
   "display_name": "Python 3",
   "language": "python",
   "name": "python3"
  },
  "language_info": {
   "codemirror_mode": {
    "name": "ipython",
    "version": 3
   },
   "file_extension": ".py",
   "mimetype": "text/x-python",
   "name": "python",
   "nbconvert_exporter": "python",
   "pygments_lexer": "ipython3",
   "version": "3.13.3"
  }
 },
 "nbformat": 4,
 "nbformat_minor": 4
}

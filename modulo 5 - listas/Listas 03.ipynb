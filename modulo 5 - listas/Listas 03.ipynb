{
 "cells": [
  {
   "cell_type": "markdown",
   "metadata": {},
   "source": [
    "# Como descobrir o índice de um item de uma lista?\n",
    "\n",
    "i = lista.index('item')"
   ]
  },
  {
   "cell_type": "markdown",
   "metadata": {},
   "source": [
    "Exemplo:\n",
    "\n",
    "Digamos que você puxou do Banco de Dados da sua empresa uma lista com todos os produtos que a empresa vende e a quantidade em estoque de todos eles."
   ]
  },
  {
   "cell_type": "code",
   "execution_count": 41,
   "metadata": {},
   "outputs": [],
   "source": [
    "produtos = ['tv', 'celular', 'tablet', 'mouse', 'teclado', 'geladeira', 'forno']\n",
    "estoque = [100, 150, 100, 120, 70, 180, 80]"
   ]
  },
  {
   "cell_type": "markdown",
   "metadata": {},
   "source": [
    "Nesse caso a lista é \"pequena\" para fins didáticos, mas essa lista poderia ter dezenas de milhares de produtos diferentes.\n",
    "\n",
    "E agora, como eu faço para descobrir a quantidade em estoque do produto geladeira?"
   ]
  },
  {
   "cell_type": "code",
   "execution_count": 30,
   "metadata": {},
   "outputs": [
    {
     "name": "stdout",
     "output_type": "stream",
     "text": [
      "Lista produtos  ['tv', 'celular', 'tablet', 'mouse', 'teclado', 'geladeira', 'forno']\n",
      "Lista de preços dos produtos  [100, 150, 100, 120, 70, 180, 80]\n",
      "produtos de indice escolhido: 'geladeira'\n",
      "posicao na lista produtos:  5\n",
      "Quantidade do item:  180\n"
     ]
    }
   ],
   "source": [
    "i = produtos.index('geladeira')\n",
    "print(\"Lista produtos \",produtos)\n",
    "print(\"Lista de preços dos produtos \",estoque)\n",
    "\n",
    "qtde_estpque = estoque[i]\n",
    "\n",
    "print(f\"produtos de indice escolhido: '{produtos[i]}'\")\n",
    "print(\"posicao na lista produtos: \",i)\n",
    "print(\"Quantidade do item: \",qtde_estpque)"
   ]
  },
  {
   "cell_type": "markdown",
   "metadata": {},
   "source": [
    "Crie um programa para fazer uma consulta de estoque. O usuário do programa deve inserir o nome do produto e, caso ele não exista na lista, ele deve ser avisado. Caso exista, o programa deve dizer a quantidade de unidades em estoque do produto"
   ]
  },
  {
   "cell_type": "code",
   "execution_count": 44,
   "metadata": {},
   "outputs": [
    {
     "name": "stdout",
     "output_type": "stream",
     "text": [
      "Posiçao do produto o estoque:  1\n",
      "O produto escolhido é:  celular\n",
      "A quantidade do produto é:  150\n"
     ]
    }
   ],
   "source": [
    "produto = input(\"Digite o nome do produto: \")\n",
    "\n",
    "if produto in produtos:\n",
    "    i = produtos.index(produto)\n",
    "    print(\"Posiçao do produto o estoque: \",i)\n",
    "    print(\"O produto escolhido é: \",produto)\n",
    "    print(\"A quantidade do produto é: \",estoque[i])\n",
    "else:\n",
    "    print(\"Produto nao existe!\")"
   ]
  }
 ],
 "metadata": {
  "kernelspec": {
   "display_name": "Python 3",
   "language": "python",
   "name": "python3"
  },
  "language_info": {
   "codemirror_mode": {
    "name": "ipython",
    "version": 3
   },
   "file_extension": ".py",
   "mimetype": "text/x-python",
   "name": "python",
   "nbconvert_exporter": "python",
   "pygments_lexer": "ipython3",
   "version": "3.13.3"
  }
 },
 "nbformat": 4,
 "nbformat_minor": 4
}

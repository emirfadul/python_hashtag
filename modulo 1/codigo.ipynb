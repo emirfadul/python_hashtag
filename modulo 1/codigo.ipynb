{
 "cells": [
  {
   "cell_type": "markdown",
   "id": "8565c542",
   "metadata": {},
   "source": [
    "primeiro codigo"
   ]
  },
  {
   "cell_type": "code",
   "execution_count": 7,
   "id": "63ba52c4",
   "metadata": {},
   "outputs": [],
   "source": [
    "var1 = \"emir\"\n",
    "var2 = \"fadul\""
   ]
  },
  {
   "cell_type": "code",
   "execution_count": 8,
   "id": "73595530",
   "metadata": {},
   "outputs": [
    {
     "name": "stdout",
     "output_type": "stream",
     "text": [
      "emir\n",
      "fadul\n",
      "emirfadul\n",
      "A primeira variavel é emir e a segunda é fadul\n"
     ]
    }
   ],
   "source": [
    "print(var1)\n",
    "print(var2)\n",
    "print (var1 + var2)\n",
    "\n",
    "print(f\"A primeira variavel é {var1} e a segunda é {var2}\" )"
   ]
  },
  {
   "cell_type": "code",
   "execution_count": 11,
   "id": "472d8fb3",
   "metadata": {},
   "outputs": [
    {
     "name": "stdout",
     "output_type": "stream",
     "text": [
      "emir\n"
     ]
    }
   ],
   "source": [
    "nome = input(\"Qual seu nome\")\n",
    "print(nome)"
   ]
  },
  {
   "cell_type": "markdown",
   "id": "b7077e3f",
   "metadata": {},
   "source": []
  },
  {
   "cell_type": "markdown",
   "id": "d0b0473b",
   "metadata": {},
   "source": []
  }
 ],
 "metadata": {
  "kernelspec": {
   "display_name": "Python 3",
   "language": "python",
   "name": "python3"
  },
  "language_info": {
   "codemirror_mode": {
    "name": "ipython",
    "version": 3
   },
   "file_extension": ".py",
   "mimetype": "text/x-python",
   "name": "python",
   "nbconvert_exporter": "python",
   "pygments_lexer": "ipython3",
   "version": "3.13.3"
  }
 },
 "nbformat": 4,
 "nbformat_minor": 5
}

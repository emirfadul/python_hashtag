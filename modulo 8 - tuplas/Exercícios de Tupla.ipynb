{
 "cells": [
  {
   "cell_type": "markdown",
   "metadata": {},
   "source": [
    "# Exercícios\n",
    "\n",
    "São exercícios bem parecidos com os que fizemos com listas. Mas na tupla, podemos não só trabalhar com índices, mas fazer o \"unpacking\" das tuplas, o que pode facilitar nossos códigos.\n",
    "\n",
    "## 1. Análise de Vendas\n",
    "\n",
    "Nesse exercício vamos fazer uma \"análise simples\" de atingimento de Meta.\n",
    "\n",
    "Temos uma lista com os vendedores e os valores de vendas e queremos identificar (printar) quais os vendedores que bateram a meta e qual foi o valor que eles venderam."
   ]
  },
  {
   "cell_type": "code",
   "execution_count": 3,
   "metadata": {},
   "outputs": [
    {
     "name": "stdout",
     "output_type": "stream",
     "text": [
      "O vendedor João bateu a meta vendendo 15000 unidades\n",
      "O vendedor Julia bateu a meta vendendo 27000 unidades\n",
      "O vendedor Ana bateu a meta vendendo 10300 unidades\n"
     ]
    }
   ],
   "source": [
    "meta = 10000\n",
    "vendas = [\n",
    "    ('João', 15000),\n",
    "    ('Julia', 27000),\n",
    "    ('Marcus', 9900),\n",
    "    ('Maria', 3750),\n",
    "    ('Ana', 10300),\n",
    "    ('Alon', 7870),\n",
    "]\n",
    "\n",
    "for venda in vendas:\n",
    "    vendedor, qtde = venda\n",
    "    if qtde > meta:\n",
    "        print(f\"O vendedor {vendedor} bateu a meta vendendo {qtde} unidades\")\n",
    "\n",
    "    "
   ]
  },
  {
   "cell_type": "markdown",
   "metadata": {},
   "source": [
    "## 2. Comparação com Ano Anterior\n",
    "\n",
    "Digamos que você está analisando as vendas de produtos de um ecommerce e quer identificar quais produtos tiveram no ano de 2020 mais vendas do que no ano de 2019, para reportar isso para a diretoria.\n",
    "\n",
    "Sua resposta pode ser um print de cada produto, qual foi a venda de 2019, a venda de 2020 e o % de crescimento de 2020 para 2019.\n",
    "\n",
    "Lembrando, para calcular o % de crescimento de um produto de um ano para o outro, podemos fazer: (vendas_produto2020/vendas_produto2019 - 1)\n",
    "\n",
    "A lógica da tupla é: (produto, vendas2019, vendas2020)"
   ]
  },
  {
   "cell_type": "code",
   "execution_count": 13,
   "metadata": {},
   "outputs": [
    {
     "name": "stdout",
     "output_type": "stream",
     "text": [
      "O produto iphone, vendeu em 2019 R$ 558,147.00 e vendeu em 2020 R$ 951,642.00, apresentando um crescimento de 70.5%\n",
      "O produto tv, vendeu em 2019 R$ 405,252.00 e vendeu em 2020 R$ 787,604.00, apresentando um crescimento de 94.3%\n",
      "O produto máquina de café, vendeu em 2019 R$ 718,654.00 e vendeu em 2020 R$ 867,660.00, apresentando um crescimento de 20.7%\n",
      "O produto notebook dell, vendeu em 2019 R$ 422,760.00 e vendeu em 2020 R$ 694,913.00, apresentando um crescimento de 64.4%\n",
      "O produto notebook hp, vendeu em 2019 R$ 154,753.00 e vendeu em 2020 R$ 539,704.00, apresentando um crescimento de 248.8%\n",
      "O produto microsoft surface, vendeu em 2019 R$ 438,508.00 e vendeu em 2020 R$ 667,179.00, apresentando um crescimento de 52.1%\n",
      "O produto webcam, vendeu em 2019 R$ 237,467.00 e vendeu em 2020 R$ 295,633.00, apresentando um crescimento de 24.5%\n",
      "O produto caixa de som, vendeu em 2019 R$ 489,705.00 e vendeu em 2020 R$ 725,316.00, apresentando um crescimento de 48.1%\n",
      "O produto microfone, vendeu em 2019 R$ 328,311.00 e vendeu em 2020 R$ 644,622.00, apresentando um crescimento de 96.3%\n",
      "O produto câmera canon, vendeu em 2019 R$ 591,120.00 e vendeu em 2020 R$ 994,303.00, apresentando um crescimento de 68.2%\n"
     ]
    }
   ],
   "source": [
    "vendas_produtos = [('iphone', 558147, 951642), ('galaxy', 712350, 244295), ('ipad', 573823, 26964), ('tv', 405252, 787604), ('máquina de café', 718654, 867660), ('kindle', 531580, 78830), ('geladeira', 973139, 710331), ('adega', 892292, 646016), ('notebook dell', 422760, 694913), ('notebook hp', 154753, 539704), ('notebook asus', 887061, 324831), ('microsoft surface', 438508, 667179), ('webcam', 237467, 295633), ('caixa de som', 489705, 725316), ('microfone', 328311, 644622), ('câmera canon', 591120, 994303)]\n",
    "\n",
    "#seu código aqui\n",
    "\n",
    "for produto,vendas_2019,vendas_2020 in vendas_produtos:\n",
    "    if vendas_2020 > vendas_2019:\n",
    "        crescimento = vendas_2020 / vendas_2019 -1\n",
    "        print(f\"O produto {produto}, vendeu em 2019 R$ {vendas_2019:,.2f} e vendeu em 2020 R$ {vendas_2020:,.2f}, apresentando um crescimento de {crescimento:.1%}\")\n"
   ]
  }
 ],
 "metadata": {
  "kernelspec": {
   "display_name": "Python 3",
   "language": "python",
   "name": "python3"
  },
  "language_info": {
   "codemirror_mode": {
    "name": "ipython",
    "version": 3
   },
   "file_extension": ".py",
   "mimetype": "text/x-python",
   "name": "python",
   "nbconvert_exporter": "python",
   "pygments_lexer": "ipython3",
   "version": "3.9.6"
  }
 },
 "nbformat": 4,
 "nbformat_minor": 4
}

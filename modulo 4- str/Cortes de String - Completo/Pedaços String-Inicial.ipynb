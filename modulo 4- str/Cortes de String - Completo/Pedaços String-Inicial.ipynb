{
 "cells": [
  {
   "cell_type": "markdown",
   "id": "4e5fa91b",
   "metadata": {},
   "source": [
    "### Forma Básica"
   ]
  },
  {
   "cell_type": "code",
   "execution_count": 5,
   "id": "fba45682",
   "metadata": {},
   "outputs": [
    {
     "name": "stdout",
     "output_type": "stream",
     "text": [
      "Jan:\n"
     ]
    }
   ],
   "source": [
    "precos = \"Jan: 25, Fev: 27, Mar: 29\"\n",
    "\n",
    "print(precos[0:4])\n"
   ]
  },
  {
   "cell_type": "markdown",
   "id": "afe5dc17",
   "metadata": {},
   "source": [
    "### Posição Inicial e Final"
   ]
  },
  {
   "cell_type": "code",
   "execution_count": 13,
   "id": "c3488405",
   "metadata": {},
   "outputs": [
    {
     "name": "stdout",
     "output_type": "stream",
     "text": [
      "A posicao final é  9\n",
      "A posiçao inicial é  J\n",
      "Pegando o mes de fevereiro:  27\n",
      "Pegando o mes de março:   29\n"
     ]
    }
   ],
   "source": [
    "print(\"A posicao final é \",precos[-1:])\n",
    "print(\"A posiçao inicial é \",precos[0])\n",
    "\n",
    "preco_fev = precos[14:16]\n",
    "print(\"Pegando o mes de fevereiro: \",preco_fev)\n",
    "\n",
    "preco_mar = precos[-3:]\n",
    "print(\"Pegando o mes de março: \", preco_mar)"
   ]
  },
  {
   "cell_type": "markdown",
   "id": "bca6dfd4",
   "metadata": {},
   "source": [
    "### Posição Inicial e Final com Step"
   ]
  },
  {
   "cell_type": "code",
   "execution_count": 22,
   "id": "981224c2",
   "metadata": {},
   "outputs": [
    {
     "name": "stdout",
     "output_type": "stream",
     "text": [
      "Pegar de 2 em 2:  12345123479\n",
      "pedaco do texto :  1543\n",
      "O codigo normal é  1.2.3.4,5,1,2.3.4,7.9\n",
      "O codigo invertido é  9.7,4.3.2,1,5,4.3.2.1\n"
     ]
    }
   ],
   "source": [
    "codigo = \"1.2.3.4,5,1,2.3.4,7.9\"\n",
    "\n",
    "pedaco = codigo[::2]\n",
    "print(\"Pegar de 2 em 2: \",pedaco)\n",
    "\n",
    "print(\"pedaco do texto : \",codigo[10:2:-2])\n",
    "\n",
    "print(\"O codigo normal é \",codigo)\n",
    "print(\"O codigo invertido é \",codigo[::-1])\n"
   ]
  }
 ],
 "metadata": {
  "kernelspec": {
   "display_name": "Python 3",
   "language": "python",
   "name": "python3"
  },
  "language_info": {
   "codemirror_mode": {
    "name": "ipython",
    "version": 3
   },
   "file_extension": ".py",
   "mimetype": "text/x-python",
   "name": "python",
   "nbconvert_exporter": "python",
   "pygments_lexer": "ipython3",
   "version": "3.13.3"
  }
 },
 "nbformat": 4,
 "nbformat_minor": 5
}

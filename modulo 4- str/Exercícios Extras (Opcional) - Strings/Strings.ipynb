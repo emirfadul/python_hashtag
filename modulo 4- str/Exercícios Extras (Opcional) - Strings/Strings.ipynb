{
 "cells": [
  {
   "cell_type": "markdown",
   "id": "2b04bbea",
   "metadata": {},
   "source": [
    "# Strings\n",
    "\n",
    "<span style=\"color: red;\"><b>Todos os exercícios são feitos partindo-se do pressuposto de que todas as entradas são dadas de forma correta. Casos limite não mencionados no enunciado não são abordados porque não fazem parte do exercício.</b></span>"
   ]
  },
  {
   "cell_type": "markdown",
   "id": "5b1f33b9",
   "metadata": {},
   "source": [
    "#### 1. Tamanho de strings. Faça um programa que leia 2 strings e informe o conteúdo delas seguido do seu comprimento. Informe também se as duas strings possuem o mesmo comprimento e são iguais ou diferentes no conteúdo.\n",
    "<pre>\n",
    "Compara duas strings\n",
    "String 1: Brasil Hexa 2006\n",
    "String 2: Brasil! Hexa 2006!\n",
    "Tamanho de \"Brasil Hexa 2006\": 16 caracteres\n",
    "Tamanho de \"Brasil! Hexa 2006!\": 18 caracteres\n",
    "As duas strings são de tamanhos diferentes.\n",
    "As duas strings possuem conteúdo diferente.\n",
    "</pre>"
   ]
  },
  {
   "cell_type": "code",
   "execution_count": 12,
   "id": "c492b657",
   "metadata": {},
   "outputs": [
    {
     "name": "stdout",
     "output_type": "stream",
     "text": [
      "Tamanho de ' Brasil Hexa 2006 ' :  16\n",
      "Tamanho de ' Brasil! Hexa 2006! ' :  18\n",
      "As duas strings sáo de tamanhos diferentes\n",
      "AS duas strings possuem conteudos diferentes\n"
     ]
    }
   ],
   "source": [
    "string1 = \"Brasil Hexa 2006\"\n",
    "string2 = \"Brasil! Hexa 2006!\"\n",
    "\n",
    "len_string1 = len(string1)\n",
    "len_string2 = len(string2)\n",
    "\n",
    "print(\"Tamanho de '\", string1,\"' : \",len(string1))\n",
    "print(\"Tamanho de '\",string2,\"' : \",len(string2))\n",
    "\n",
    "if len_string1 == len_string2:\n",
    "    print(\"As duas strings sáo de tamanhos iguais\")\n",
    "    print(\"AS duas strings possuem o mesmo conteudo\")\n",
    "else:\n",
    "    print(\"As duas strings sáo de tamanhos diferentes\")\n",
    "    print(\"AS duas strings possuem conteudos diferentes\")"
   ]
  },
  {
   "cell_type": "markdown",
   "id": "c3068a53",
   "metadata": {},
   "source": [
    "#### 2. Valida e corrige número de telefone. Faça um programa que leia um número de telefone, e corrija o número no caso deste conter somente 7 dígitos, acrescentando o '3' na frente. O usuário pode informar o número com ou sem o traço separador.\n",
    "<pre>\n",
    "Valida e corrige número de telefone\n",
    "Telefone: 461-0133\n",
    "Telefone possui 7 dígitos. Vou acrescentar o digito três na frente.\n",
    "Telefone corrigido sem formatação: 34610133\n",
    "Telefone corrigido com formatação: 3461-0133\n",
    "</pre>"
   ]
  },
  {
   "cell_type": "code",
   "execution_count": 3,
   "id": "0308566d",
   "metadata": {},
   "outputs": [
    {
     "name": "stdout",
     "output_type": "stream",
     "text": [
      "Telefone: 123-4567\n",
      "O telefone possui 7 digitos. Vou acrescentar o digito 3 na frente.\n",
      "Telefone corrigido sem formataçáo:  31234567\n",
      "Telefone corrido com formataçáo: 3123-4567\n"
     ]
    }
   ],
   "source": [
    "tel = input(\"Digite o numero do seu telefone(7 digitos): \")\n",
    "\n",
    "\n",
    "print(f\"Telefone: {tel}\")\n",
    "tel = tel.replace('-','')\n",
    "\n",
    "if len(tel) == 7:\n",
    "    print(\"O telefone possui 7 digitos. Vou acrescentar o digito 3 na frente.\")\n",
    "    tel = \"3\" + tel\n",
    "    print(\"Telefone corrigido sem formataçáo: \",tel)\n",
    "    print(f\"Telefone corrido com formataçáo: {tel[:4]}-{tel[4:]}\" )\n",
    "else:\n",
    "    print(\"O telefone nao possui 7 digitos.\")\n",
    "    \n",
    "\n",
    "\n",
    "\n"
   ]
  }
 ],
 "metadata": {
  "kernelspec": {
   "display_name": "Python 3",
   "language": "python",
   "name": "python3"
  },
  "language_info": {
   "codemirror_mode": {
    "name": "ipython",
    "version": 3
   },
   "file_extension": ".py",
   "mimetype": "text/x-python",
   "name": "python",
   "nbconvert_exporter": "python",
   "pygments_lexer": "ipython3",
   "version": "3.13.3"
  }
 },
 "nbformat": 4,
 "nbformat_minor": 5
}

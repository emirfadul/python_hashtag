{
 "cells": [
  {
   "cell_type": "markdown",
   "metadata": {},
   "source": [
    "# Range\n",
    "\n",
    "### Estrutura:\n",
    "\n",
    "- range(tamanho)\n",
    "\n",
    "ou \n",
    "\n",
    "- range(inicio, fim)\n",
    "\n",
    "ou\n",
    "\n",
    "- range(inicio, fim, passo)"
   ]
  },
  {
   "cell_type": "code",
   "execution_count": 9,
   "metadata": {},
   "outputs": [
    {
     "name": "stdout",
     "output_type": "stream",
     "text": [
      "5 5\n",
      "arroz : 50\n",
      "feijao : 100\n",
      "macarrao : 20\n",
      "atum : 5\n",
      "azeite : 80\n"
     ]
    }
   ],
   "source": [
    "#uso mais comum no for:\n",
    "produtos = ['arroz', 'feijao', 'macarrao', 'atum', 'azeite']\n",
    "estoque = [50, 100, 20, 5, 80]\n",
    "\n",
    "qtde_produtos = len(produtos)\n",
    "qtde_estoque = len(estoque)\n",
    "print(qtde_estoque,qtde_estoque)\n",
    "\n",
    "for i in range(qtde_estoque):\n",
    "    print(f\"{produtos[i]} : {estoque[i]}\")"
   ]
  },
  {
   "cell_type": "code",
   "execution_count": 22,
   "metadata": {},
   "outputs": [
    {
     "name": "stdout",
     "output_type": "stream",
     "text": [
      "2\n",
      "4\n",
      "6\n",
      "8\n",
      "10\n",
      "12\n",
      "14\n",
      "16\n",
      "18\n"
     ]
    }
   ],
   "source": [
    "#range com inicio e fim\n",
    "for i in range(2,20,2):\n",
    "    print(i)\n",
    "\n",
    "#vamos olhar no for para entender"
   ]
  },
  {
   "cell_type": "markdown",
   "metadata": {},
   "source": [
    "- Exemplo: Modelo Jack Welch da G&E\n",
    "\n",
    "    1. Classe A: 10% melhor\n",
    "    2. Classe B: 80% mantém/busca melhorar\n",
    "    3. Classe C: 10% pior\n",
    "    \n",
    "Quem são os funcionários classe B?"
   ]
  },
  {
   "cell_type": "code",
   "execution_count": 28,
   "metadata": {},
   "outputs": [
    {
     "name": "stdout",
     "output_type": "stream",
     "text": [
      "Funcionarios classe B :\n",
      "O funcionario(a): Antônio obteve vendas R$ 1500.00\n",
      "O funcionario(a): João obteve vendas R$ 1200.00\n",
      "O funcionario(a): Francisco obteve vendas R$ 1111.00\n",
      "O funcionario(a): Ana obteve vendas R$ 1100.00\n",
      "O funcionario(a): Luiz obteve vendas R$ 999.00\n",
      "O funcionario(a): Paulo obteve vendas R$ 900.00\n",
      "O funcionario(a): Carlos obteve vendas R$ 880.00\n",
      "O funcionario(a): Manoel obteve vendas R$ 870.00\n",
      "O funcionario(a): Pedro obteve vendas R$ 800.00\n",
      "O funcionario(a): Francisca obteve vendas R$ 800.00\n",
      "O funcionario(a): Marcos obteve vendas R$ 450.00\n",
      "O funcionario(a): Raimundo obteve vendas R$ 400.00\n",
      "O funcionario(a): Sebastião obteve vendas R$ 300.00\n",
      "O funcionario(a): Antônia obteve vendas R$ 300.00\n",
      "O funcionario(a): Marcelo obteve vendas R$ 120.00\n",
      "O funcionario(a): Jorge obteve vendas R$ 90.00\n"
     ]
    }
   ],
   "source": [
    "funcionarios = ['Maria', 'José', 'Antônio', 'João', 'Francisco', 'Ana', 'Luiz', 'Paulo', 'Carlos', 'Manoel', 'Pedro', 'Francisca', 'Marcos', 'Raimundo', 'Sebastião', 'Antônia', 'Marcelo', 'Jorge', 'Márcia', 'Geraldo']\n",
    "vendas = [2750, 1900, 1500, 1200, 1111, 1100, 999, 900, 880, 870, 800, 800, 450, 400, 300, 300, 120, 90, 80, 70]\n",
    "\n",
    "print(\"Funcionarios classe B :\")\n",
    "for i in range(2,18):\n",
    "    print(f\"O funcionario(a): {funcionarios[i]} obteve vendas R$ {vendas[i]:.2f}\")"
   ]
  },
  {
   "cell_type": "code",
   "execution_count": 31,
   "metadata": {},
   "outputs": [
    {
     "name": "stdout",
     "output_type": "stream",
     "text": [
      "range(0, 1000, 10)\n",
      "0\n",
      "100\n",
      "200\n",
      "300\n",
      "400\n",
      "500\n",
      "600\n",
      "700\n",
      "800\n",
      "900\n"
     ]
    }
   ],
   "source": [
    "#range com passo\n",
    "print(range(0, 1000, 10))\n",
    "\n",
    "for i in range(0, 1000, 100):\n",
    "    print(i)"
   ]
  }
 ],
 "metadata": {
  "kernelspec": {
   "display_name": "Python 3",
   "language": "python",
   "name": "python3"
  },
  "language_info": {
   "codemirror_mode": {
    "name": "ipython",
    "version": 3
   },
   "file_extension": ".py",
   "mimetype": "text/x-python",
   "name": "python",
   "nbconvert_exporter": "python",
   "pygments_lexer": "ipython3",
   "version": "3.9.6"
  }
 },
 "nbformat": 4,
 "nbformat_minor": 4
}
